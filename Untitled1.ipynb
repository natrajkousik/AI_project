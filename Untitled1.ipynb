{
  "nbformat": 4,
  "nbformat_minor": 0,
  "metadata": {
    "colab": {
      "provenance": []
    },
    "kernelspec": {
      "name": "python3",
      "display_name": "Python 3"
    },
    "language_info": {
      "name": "python"
    }
  },
  "cells": [
    {
      "cell_type": "markdown",
      "source": [
        "Object-Oriented Programming (OOP) is a programming paradigm based on the concept of \"objects,\" which encapsulate data and behavior. Python supports OOP with key principles:\n",
        "\n",
        "Class: A blueprint for creating objects.\n",
        "Object: An instance of a class.\n",
        "Encapsulation: Hiding implementation details and exposing only the necessary interface.\n",
        "Inheritance: Creating new classes from existing ones.\n",
        "Polymorphism: Defining a single interface for different types.\n",
        "Abstraction: Hiding complex implementation details and showing only functionalit"
      ],
      "metadata": {
        "id": "pE1hTT8hZFX1"
      }
    },
    {
      "cell_type": "code",
      "source": [
        "#defining class and objects\n",
        "class Person:\n",
        "    def __init__(self, name, age):\n",
        "        self.name = name\n",
        "        self.age = age\n",
        "\n",
        "    def greet(self):\n",
        "        return f\"Hello, my name is {self.name} and I am {self.age} years old.\"\n",
        "\n",
        "person = Person(\"Alice\", 25)\n",
        "print(person.greet())\n",
        "#encapsulation\n",
        "class BankAccount:\n",
        "    def __init__(self, balance):\n",
        "        self.__balance = balance\n",
        "\n",
        "    def deposit(self, amount):\n",
        "        self.__balance += amount\n",
        "\n",
        "    def get_balance(self):\n",
        "        return self.__balance\n",
        "\n",
        "account = BankAccount(1000)\n",
        "account.deposit(500)\n",
        "print(account.get_balance())\n",
        "##inheritence\n",
        "class Animal:\n",
        "    def sound(self):\n",
        "        return \"Some generic sound\"\n",
        "\n",
        "class Dog(Animal):\n",
        "    def sound(self):\n",
        "        return \"Bark\"\n",
        "\n",
        "dog = Dog()\n",
        "print(dog.sound())\n",
        "#polymorphism\n",
        "class Shape:\n",
        "    def area(self):\n",
        "        pass\n",
        "\n",
        "class Circle(Shape):\n",
        "    def __init__(self, radius):\n",
        "        self.radius = radius\n",
        "\n",
        "    def area(self):\n",
        "        return 3.14 * self.radius ** 2\n",
        "\n",
        "class Rectangle(Shape):\n",
        "    def __init__(self, length, width):\n",
        "        self.length = length\n",
        "        self.width = width\n",
        "\n",
        "    def area(self):\n",
        "        return self.length * self.width\n",
        "\n",
        "shapes = [Circle(5), Rectangle(4, 6)]\n",
        "for shape in shapes:\n",
        "    print(shape.area())\n",
        "#abstraction\n",
        "from abc import ABC, abstractmethod\n",
        "\n",
        "class Vehicle(ABC):\n",
        "    @abstractmethod\n",
        "    def start(self):\n",
        "        pass\n",
        "\n",
        "class Car(Vehicle):\n",
        "    def start(self):\n",
        "        return \"Car started\"\n",
        "\n",
        "class Bike(Vehicle):\n",
        "    def start(self):\n",
        "        return \"Bike started\"\n",
        "\n",
        "car = Car()\n",
        "bike = Bike()\n",
        "print(car.start())\n",
        "print(bike.start())\n"
      ],
      "metadata": {
        "id": "EESOqaz0Z66F"
      },
      "execution_count": null,
      "outputs": []
    },
    {
      "cell_type": "markdown",
      "source": [
        "Here’s a comparison of list, tuple, set, and dictionary in Python:\n",
        "\n",
        "1. List\n",
        "Ordered: Maintains the order of elements.\n",
        "Mutable: Can add, modify, or remove elements.\n",
        "Allows Duplicates: Can contain duplicate elements.\n",
        "Indexable: Access elements via indices.\n",
        "Common Methods: append(), insert(), remove(), pop(), sort(), reverse().\n",
        "2. Tuple\n",
        "Ordered: Maintains the order of elements.\n",
        "Immutable: Cannot be modified after creation (elements cannot be added, removed, or changed).\n",
        "Allows Duplicates: Can contain duplicate elements.\n",
        "Indexable: Access elements via indices.\n",
        "Common Methods: count(), index().\n",
        "3. Set\n",
        "Unordered: Does not maintain the order of elements.\n",
        "Mutable: Can add or remove elements (but elements must be immutable).\n",
        "No Duplicates: Automatically removes duplicate elements.\n",
        "Non-Indexable: Cannot access elements via indices.\n",
        "Common Methods: add(), remove(), union(), intersection(), difference().\n",
        "4. Dictionary\n",
        "Ordered (Python 3.7+): Maintains the order of key-value pairs.\n",
        "Mutable: Can add, modify, or remove key-value pairs.\n",
        "No Duplicate Keys: Keys must be unique (values can be duplicated).\n",
        "Key-Value Pairs: Contains keys (must be immutable) and values.\n",
        "Common Methods: get(), keys(), values(), items(), update(), pop()."
      ],
      "metadata": {
        "id": "w-imcdp_Y1DO"
      }
    },
    {
      "cell_type": "markdown",
      "source": [
        "Python List:\n",
        "List is a collection which is ordered and changeable. Allows duplicate members."
      ],
      "metadata": {
        "id": "A1_VZ91YXXfO"
      }
    },
    {
      "cell_type": "code",
      "execution_count": 2,
      "metadata": {
        "id": "iZLQTJZfWSzr"
      },
      "outputs": [],
      "source": [
        "# Creating lists\n",
        "list1 = [1, 2, 3, 4, 5]\n",
        "list2 = ['a', 'b', 'c', 'd', 'e']\n",
        "list3 = [3.5, 4.2, 5.1]\n",
        "\n",
        "# Indexing and slicing\n",
        "first_element = list1[0]\n",
        "last_element = list2[-1]\n",
        "sublist = list1[1:4]\n",
        "\n",
        "# Adding elements\n",
        "list1.append(6)\n",
        "list2.insert(2, 'z')\n",
        "\n",
        "# Removing elements\n",
        "list1.remove(3)\n",
        "popped_element = list2.pop()\n",
        "\n",
        "# Sorting and reversing\n",
        "list3.sort()\n",
        "list1.reverse()\n",
        "\n",
        "# List concatenation and repetition\n",
        "combined_list = list1 + list2\n",
        "repeated_list = list3 * 2\n",
        "\n",
        "# Checking membership\n",
        "is_in_list = 4 in list1\n",
        "is_not_in_list = 'f' not in list2\n",
        "\n",
        "# Finding length, min, max, sum\n",
        "length_of_list = len(list1)\n",
        "min_value = min(list1)\n",
        "max_value = max(list1)\n",
        "sum_of_list = sum(list1)\n",
        "\n",
        "# Using list comprehension\n",
        "squared_list = [x**2 for x in list1 if x % 2 == 0]\n",
        "\n",
        "# Copying a list\n",
        "copied_list = list1[:]\n",
        "\n",
        "# Clearing a list\n",
        "list1.clear()\n"
      ]
    },
    {
      "cell_type": "markdown",
      "source": [
        "Tuple is a collection which is ordered and unchangeable. Allows duplicate members"
      ],
      "metadata": {
        "id": "zJDBrYXOYCC4"
      }
    },
    {
      "cell_type": "code",
      "source": [
        "# Creating tuples\n",
        "tuple1 = (1, 2, 3, 4, 5)\n",
        "tuple2 = ('a', 'b', 'c', 'd', 'e')\n",
        "tuple3 = (3.5, 4.2, 5.1)\n",
        "\n",
        "# Indexing and slicing\n",
        "first_element = tuple1[0]\n",
        "last_element = tuple2[-1]\n",
        "subtuple = tuple1[1:4]\n",
        "\n",
        "# Concatenation and repetition\n",
        "combined_tuple = tuple1 + tuple2\n",
        "repeated_tuple = tuple3 * 2\n",
        "\n",
        "# Checking membership\n",
        "is_in_tuple = 4 in tuple1\n",
        "is_not_in_tuple = 'f' not in tuple2\n",
        "\n",
        "# Finding length, min, max\n",
        "length_of_tuple = len(tuple1)\n",
        "min_value = min(tuple1)\n",
        "max_value = max(tuple1)\n",
        "\n",
        "# Converting to list and back to tuple\n",
        "list_from_tuple = list(tuple1)\n",
        "tuple_from_list = tuple(list_from_tuple)\n"
      ],
      "metadata": {
        "id": "lsZniBR_YIfA"
      },
      "execution_count": 3,
      "outputs": []
    },
    {
      "cell_type": "markdown",
      "source": [
        "Set is a collection which is unordered, unchangeable*, and unindexed. No duplicate members."
      ],
      "metadata": {
        "id": "y1TFvMaXYXY0"
      }
    },
    {
      "cell_type": "code",
      "source": [
        "# Creating sets\n",
        "set1 = {1, 2, 3, 4, 5}\n",
        "set2 = {'a', 'b', 'c', 'd', 'e'}\n",
        "set3 = {3.5, 4.2, 5.1}\n",
        "\n",
        "# Adding elements\n",
        "set1.add(6)\n",
        "\n",
        "# Removing elements\n",
        "set1.remove(3)\n",
        "set1.discard(10)\n",
        "popped_element = set1.pop()\n",
        "\n",
        "# Union, intersection, difference, symmetric difference\n",
        "union_set = set1.union(set2)\n",
        "intersection_set = set1.intersection(set2)\n",
        "difference_set = set1.difference(set2)\n",
        "symmetric_difference_set = set1.symmetric_difference(set2)\n",
        "\n",
        "# Checking membership\n",
        "is_in_set = 4 in set1\n",
        "is_not_in_set = 'f' not in set2\n",
        "\n",
        "# Set methods\n",
        "set1.update({7, 8})\n",
        "set1.intersection_update({4, 5, 6, 7})\n",
        "set1.difference_update({6, 7})\n",
        "set1.symmetric_difference_update({4, 9})\n",
        "\n",
        "# Copying a set\n",
        "copied_set = set1.copy()\n",
        "\n",
        "# Clearing a set\n",
        "set1.clear()\n"
      ],
      "metadata": {
        "id": "tpEE3-CEYawY"
      },
      "execution_count": 4,
      "outputs": []
    },
    {
      "cell_type": "markdown",
      "source": [
        "Dictionary is a collection which is ordered** and changeable. No duplicate members."
      ],
      "metadata": {
        "id": "AX21dvhxYlB-"
      }
    },
    {
      "cell_type": "code",
      "source": [
        "# Creating dictionaries\n",
        "dict1 = {'a': 1, 'b': 2, 'c': 3}\n",
        "dict2 = {'x': 10, 'y': 20, 'z': 30}\n",
        "\n",
        "# Accessing values\n",
        "value_a = dict1['a']\n",
        "value_x = dict2.get('x')\n",
        "\n",
        "# Adding or updating key-value pairs\n",
        "dict1['d'] = 4\n",
        "dict1['a'] = 10\n",
        "\n",
        "# Removing key-value pairs\n",
        "removed_value = dict1.pop('b')\n",
        "last_item = dict2.popitem()\n",
        "\n",
        "# Merging dictionaries\n",
        "dict1.update(dict2)\n",
        "\n",
        "# Checking membership\n",
        "is_key_in_dict = 'a' in dict1\n",
        "is_key_not_in_dict = 'b' not in dict1\n",
        "\n",
        "# Dictionary methods\n",
        "keys = list(dict1.keys())\n",
        "values = list(dict1.values())\n",
        "items = list(dict1.items())\n",
        "\n",
        "# Copying a dictionary\n",
        "copied_dict = dict1.copy()\n",
        "\n",
        "# Clearing a dictionary\n",
        "dict1.clear()\n"
      ],
      "metadata": {
        "id": "wBiErnWRYnnw"
      },
      "execution_count": 5,
      "outputs": []
    }
  ]
}